{
 "cells": [
  {
   "cell_type": "code",
   "execution_count": 90,
   "metadata": {},
   "outputs": [],
   "source": [
    "tanggal = input('Tanggal Pinjam :')\n",
    "durasi = int(input('Durasi Pinjam :'))\n",
    "\n",
    "kategoris  = {\n",
    "    1:100,\n",
    "    2:200,\n",
    "    3:250,\n",
    "    4:300,\n",
    "    5:500,\n",
    "}"
   ]
  },
  {
   "cell_type": "code",
   "execution_count": 91,
   "metadata": {},
   "outputs": [],
   "source": [
    "def dtl(s_tgl):\n",
    "    return [ int(k) for k in s_tgl.split('-')]\n",
    "\n",
    "def is_cm(tgl_p,d,c):\n",
    "    return tgl_p[2] + d > c\n",
    "\n",
    "def thn_back(tgl_p,d,c):\n",
    "    return tgl_p[0]+1 if ( is_cm(tgl_p,d,c)and tgl_p[1]==12)else tgl_p[0]\n",
    "\n",
    "def bln_back(tgl_p,d,c):\n",
    "    return (tgl_p[1]% 12)+1 if is_cm(tgl_p,d,c) else (tgl_p[1]% 12)\n",
    "\n",
    "def tgl_back(tgl_p,d,c):\n",
    "    return tgl_p[2] + d - c if is_cm(tgl_p,d,c) else tgl_p[2]+d\n",
    "\n",
    "def is_awal_abad(thn):\n",
    "    return thn % 100 == 0\n",
    "\n",
    "def kabisat(thn):\n",
    "    return ( is_awal_abad(thn)and thn % 400 == 0) or ( not is_awal_abad(thn)and thn % 4 == 0)\n",
    "\n",
    "def dec_c(t):\n",
    "    return 30 + ( t[1]%2 if t[1]<= 8 else abs( (t[1]% 2)-1)) if t[1]!= 2 else ( 29 if kabisat(t[0]) else 28)\n",
    "\n",
    "def wkt_kembali(tgl_p,d):\n",
    "    return [thn_back(tgl_p,d,dec_c(tgl_p)), bln_back(tgl_p,d,dec_c(tgl_p)), tgl_back(tgl_p,d,dec_c(tgl_p))]\n"
   ]
  },
  {
   "cell_type": "code",
   "execution_count": 92,
   "metadata": {},
   "outputs": [
    {
     "data": {
      "text/plain": [
       "[2020, 1, 27]"
      ]
     },
     "execution_count": 92,
     "metadata": {},
     "output_type": "execute_result"
    }
   ],
   "source": [
    "#tanggal = '2020-01-02'\n",
    "#durasi = 25\n",
    "tgl_p = dtl(tanggal)\n",
    "wkt_kembali(tgl_p,durasi)"
   ]
  },
  {
   "cell_type": "code",
   "execution_count": 93,
   "metadata": {},
   "outputs": [],
   "source": [
    "sewaan_all = [ [1,5], [2,3], [3,0], [4,1], [5,2]]\n",
    "\n",
    "def calc_biaya_per_kategori(kategori,sewaan):\n",
    "    return sewaan[1] * kategoris.get( sewaan[0])\n",
    "\n",
    "def calc_all_biaya(kategori,sewaan_all,durasi):\n",
    "    return sum( [ calc_biaya_per_kategori(kategori,sewaan) for sewaan in sewaan_all])*durasi"
   ]
  },
  {
   "cell_type": "code",
   "execution_count": 94,
   "metadata": {},
   "outputs": [
    {
     "data": {
      "text/plain": [
       "60000"
      ]
     },
     "execution_count": 94,
     "metadata": {},
     "output_type": "execute_result"
    }
   ],
   "source": [
    "calc_all_biaya(kategoris,sewaan_all,durasi)"
   ]
  }
 ],
 "metadata": {
  "interpreter": {
   "hash": "7d04c2ccdc77879c44c0e38a475c5c944666b751d27f26244a0b0bd35fcecd56"
  },
  "kernelspec": {
   "display_name": "Python 3.10.0 64-bit",
   "language": "python",
   "name": "python3"
  },
  "language_info": {
   "codemirror_mode": {
    "name": "ipython",
    "version": 3
   },
   "file_extension": ".py",
   "mimetype": "text/x-python",
   "name": "python",
   "nbconvert_exporter": "python",
   "pygments_lexer": "ipython3",
   "version": "3.10.0"
  },
  "orig_nbformat": 4
 },
 "nbformat": 4,
 "nbformat_minor": 2
}
